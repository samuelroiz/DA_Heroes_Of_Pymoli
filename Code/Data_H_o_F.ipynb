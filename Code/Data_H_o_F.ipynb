{
 "cells": [
  {
   "cell_type": "code",
   "execution_count": 56,
   "id": "b9aae02a",
   "metadata": {},
   "outputs": [],
   "source": [
    "import pandas as pd\n",
    "import numpy as np"
   ]
  },
  {
   "cell_type": "code",
   "execution_count": 2,
   "id": "1d1eb5dc",
   "metadata": {},
   "outputs": [],
   "source": [
    "# LOAD FILE INTO PROGRAM \" 'name' = 'LOC' \"\n",
    "file_to_load = \"../Resources/purchase_data.csv\""
   ]
  },
  {
   "cell_type": "code",
   "execution_count": 103,
   "id": "31c04fde",
   "metadata": {
    "scrolled": true
   },
   "outputs": [
    {
     "data": {
      "text/html": [
       "<div>\n",
       "<style scoped>\n",
       "    .dataframe tbody tr th:only-of-type {\n",
       "        vertical-align: middle;\n",
       "    }\n",
       "\n",
       "    .dataframe tbody tr th {\n",
       "        vertical-align: top;\n",
       "    }\n",
       "\n",
       "    .dataframe thead th {\n",
       "        text-align: right;\n",
       "    }\n",
       "</style>\n",
       "<table border=\"1\" class=\"dataframe\">\n",
       "  <thead>\n",
       "    <tr style=\"text-align: right;\">\n",
       "      <th></th>\n",
       "      <th>Purchase ID</th>\n",
       "      <th>SN</th>\n",
       "      <th>Age</th>\n",
       "      <th>Gender</th>\n",
       "      <th>Item ID</th>\n",
       "      <th>Item Name</th>\n",
       "      <th>Price</th>\n",
       "    </tr>\n",
       "  </thead>\n",
       "  <tbody>\n",
       "    <tr>\n",
       "      <th>0</th>\n",
       "      <td>0</td>\n",
       "      <td>Lisim78</td>\n",
       "      <td>20</td>\n",
       "      <td>Male</td>\n",
       "      <td>108</td>\n",
       "      <td>Extraction, Quickblade Of Trembling Hands</td>\n",
       "      <td>3.53</td>\n",
       "    </tr>\n",
       "    <tr>\n",
       "      <th>1</th>\n",
       "      <td>1</td>\n",
       "      <td>Lisovynya38</td>\n",
       "      <td>40</td>\n",
       "      <td>Male</td>\n",
       "      <td>143</td>\n",
       "      <td>Frenzied Scimitar</td>\n",
       "      <td>1.56</td>\n",
       "    </tr>\n",
       "    <tr>\n",
       "      <th>2</th>\n",
       "      <td>2</td>\n",
       "      <td>Ithergue48</td>\n",
       "      <td>24</td>\n",
       "      <td>Male</td>\n",
       "      <td>92</td>\n",
       "      <td>Final Critic</td>\n",
       "      <td>4.88</td>\n",
       "    </tr>\n",
       "    <tr>\n",
       "      <th>3</th>\n",
       "      <td>3</td>\n",
       "      <td>Chamassasya86</td>\n",
       "      <td>24</td>\n",
       "      <td>Male</td>\n",
       "      <td>100</td>\n",
       "      <td>Blindscythe</td>\n",
       "      <td>3.27</td>\n",
       "    </tr>\n",
       "    <tr>\n",
       "      <th>4</th>\n",
       "      <td>4</td>\n",
       "      <td>Iskosia90</td>\n",
       "      <td>23</td>\n",
       "      <td>Male</td>\n",
       "      <td>131</td>\n",
       "      <td>Fury</td>\n",
       "      <td>1.44</td>\n",
       "    </tr>\n",
       "  </tbody>\n",
       "</table>\n",
       "</div>"
      ],
      "text/plain": [
       "   Purchase ID             SN  Age Gender  Item ID  \\\n",
       "0            0        Lisim78   20   Male      108   \n",
       "1            1    Lisovynya38   40   Male      143   \n",
       "2            2     Ithergue48   24   Male       92   \n",
       "3            3  Chamassasya86   24   Male      100   \n",
       "4            4      Iskosia90   23   Male      131   \n",
       "\n",
       "                                   Item Name  Price  \n",
       "0  Extraction, Quickblade Of Trembling Hands   3.53  \n",
       "1                          Frenzied Scimitar   1.56  \n",
       "2                               Final Critic   4.88  \n",
       "3                                Blindscythe   3.27  \n",
       "4                                       Fury   1.44  "
      ]
     },
     "execution_count": 103,
     "metadata": {},
     "output_type": "execute_result"
    }
   ],
   "source": [
    "# READ CSV FILE \n",
    "purchase_data_df = pd.read_csv(file_to_load)\n",
    "\n",
    "#PRINT TABLE\n",
    "purchase_data_df.head()"
   ]
  },
  {
   "cell_type": "code",
   "execution_count": 104,
   "id": "a06cb9c1",
   "metadata": {
    "scrolled": false
   },
   "outputs": [
    {
     "data": {
      "text/plain": [
       "Purchase ID    780\n",
       "SN             780\n",
       "Age            780\n",
       "Gender         780\n",
       "Item ID        780\n",
       "dtype: int64"
      ]
     },
     "execution_count": 104,
     "metadata": {},
     "output_type": "execute_result"
    }
   ],
   "source": [
    "# COUNT HOW MANY PLAYERS THERE ARE IN THE DATA\n",
    "total_players = purchase_data_df.count()\n",
    "total_players.head()"
   ]
  },
  {
   "cell_type": "code",
   "execution_count": 105,
   "id": "f0cf424a",
   "metadata": {},
   "outputs": [
    {
     "data": {
      "text/html": [
       "<div>\n",
       "<style scoped>\n",
       "    .dataframe tbody tr th:only-of-type {\n",
       "        vertical-align: middle;\n",
       "    }\n",
       "\n",
       "    .dataframe tbody tr th {\n",
       "        vertical-align: top;\n",
       "    }\n",
       "\n",
       "    .dataframe thead th {\n",
       "        text-align: right;\n",
       "    }\n",
       "</style>\n",
       "<table border=\"1\" class=\"dataframe\">\n",
       "  <thead>\n",
       "    <tr style=\"text-align: right;\">\n",
       "      <th></th>\n",
       "      <th>Total of Players</th>\n",
       "    </tr>\n",
       "  </thead>\n",
       "  <tbody>\n",
       "    <tr>\n",
       "      <th>0</th>\n",
       "      <td>780</td>\n",
       "    </tr>\n",
       "  </tbody>\n",
       "</table>\n",
       "</div>"
      ],
      "text/plain": [
       "   Total of Players\n",
       "0               780"
      ]
     },
     "execution_count": 105,
     "metadata": {},
     "output_type": "execute_result"
    }
   ],
   "source": [
    "# CREATE NEW TABLE while including data from 'purchase_data_df.count()'\n",
    "list_players = pd.DataFrame({\n",
    "    \"Total of Players\":[total_players[0]]\n",
    "})\n",
    "\n",
    "#PRINT TABLE\n",
    "list_players.head()"
   ]
  },
  {
   "cell_type": "code",
   "execution_count": 150,
   "id": "90269bfe",
   "metadata": {
    "scrolled": true
   },
   "outputs": [
    {
     "name": "stdout",
     "output_type": "stream",
     "text": [
      "Number of Unique Items: 179\n"
     ]
    }
   ],
   "source": [
    "# FINDING THE NUMBER OF UNIQUE ITEMS\n",
    "\n",
    "items = purchase_data_df['Item Name'].value_counts()\n",
    "# Prints out full raw data (shows all rows) \n",
    "# np.savetxt('LOCATION TO SAVE plus name', 'Data Frame', FMT) # fmt = '%d' rounds up the values to integers\n",
    "np.savetxt('../Resources/unique_items_data.text', items, fmt='%d')\n",
    "number_of_unique_items = items.shape[0]\n",
    "print(\"Number of Unique Items: \" + str(number_of_unique_items) )"
   ]
  },
  {
   "cell_type": "code",
   "execution_count": 119,
   "id": "8972b2ac",
   "metadata": {},
   "outputs": [
    {
     "name": "stdout",
     "output_type": "stream",
     "text": [
      "Price Average: 3.0509871794871795\n",
      "\n",
      "Total Rev.: 2379.77\n"
     ]
    }
   ],
   "source": [
    "# FINDING THE AVERAGE PRICE\n",
    "\n",
    "price_df = purchase_data_df['Price']\n",
    "total_revenue = price_df.sum()                       # TOTAL REVENUE by using '.sum()'\n",
    "price_average = ((total_revenue)/(total_players[0])) # COULD ADD 'round(decimals = 2)' to round it up, \n",
    "                                                     # but we use '.astype(float).map(\"${:,.2f}\".format)' instead\n",
    "\n",
    "print(\"Price Average: \" + str(price_average))\n",
    "print(\"\")\n",
    "print(\"Total Rev.: \" + str(total_revenue))"
   ]
  },
  {
   "cell_type": "code",
   "execution_count": 96,
   "id": "f91e672e",
   "metadata": {
    "scrolled": false
   },
   "outputs": [
    {
     "data": {
      "text/html": [
       "<div>\n",
       "<style scoped>\n",
       "    .dataframe tbody tr th:only-of-type {\n",
       "        vertical-align: middle;\n",
       "    }\n",
       "\n",
       "    .dataframe tbody tr th {\n",
       "        vertical-align: top;\n",
       "    }\n",
       "\n",
       "    .dataframe thead th {\n",
       "        text-align: right;\n",
       "    }\n",
       "</style>\n",
       "<table border=\"1\" class=\"dataframe\">\n",
       "  <thead>\n",
       "    <tr style=\"text-align: right;\">\n",
       "      <th></th>\n",
       "      <th>Number of Unique Items</th>\n",
       "      <th>Average Price</th>\n",
       "      <th>Number of Purchases</th>\n",
       "      <th>Total Revenue</th>\n",
       "    </tr>\n",
       "  </thead>\n",
       "  <tbody>\n",
       "    <tr>\n",
       "      <th>0</th>\n",
       "      <td>179</td>\n",
       "      <td>$3.05</td>\n",
       "      <td>780</td>\n",
       "      <td>$2,379.77</td>\n",
       "    </tr>\n",
       "  </tbody>\n",
       "</table>\n",
       "</div>"
      ],
      "text/plain": [
       "   Number of Unique Items Average Price  Number of Purchases Total Revenue\n",
       "0                     179         $3.05                  780     $2,379.77"
      ]
     },
     "execution_count": 96,
     "metadata": {},
     "output_type": "execute_result"
    }
   ],
   "source": [
    "# CREATE TABLE\n",
    "purchasing_analysis_df = pd.DataFrame({\n",
    "    \"Number of Unique Items\": [number_of_unique_items],\n",
    "    \"Average Price\": [price_average],\n",
    "    \"Number of Purchases\": [total_players[0]],\n",
    "    \"Total Revenue\":[total_revenue]\n",
    "})\n",
    "\n",
    "#TO ROUND VALUES UP AND ADD '$'\n",
    "purchasing_analysis_df[\"Average Price\"] = purchasing_analysis_df[\"Average Price\"].astype(float).map(\n",
    "    \"${:,.2f}\".format)\n",
    "purchasing_analysis_df[\"Total Revenue\"] = purchasing_analysis_df[\"Total Revenue\"].astype(float).map(\n",
    "    \"${:,.2f}\".format)\n",
    "\n",
    "\n",
    "# PRINT OUT TABLE\n",
    "purchasing_analysis_df"
   ]
  },
  {
   "cell_type": "code",
   "execution_count": 189,
   "id": "863b7136",
   "metadata": {
    "scrolled": true
   },
   "outputs": [
    {
     "name": "stdout",
     "output_type": "stream",
     "text": [
      "<pandas.core.groupby.generic.DataFrameGroupBy object at 0x000001AE9BEDCF98>\n"
     ]
    },
    {
     "data": {
      "text/html": [
       "<div>\n",
       "<style scoped>\n",
       "    .dataframe tbody tr th:only-of-type {\n",
       "        vertical-align: middle;\n",
       "    }\n",
       "\n",
       "    .dataframe tbody tr th {\n",
       "        vertical-align: top;\n",
       "    }\n",
       "\n",
       "    .dataframe thead th {\n",
       "        text-align: right;\n",
       "    }\n",
       "</style>\n",
       "<table border=\"1\" class=\"dataframe\">\n",
       "  <thead>\n",
       "    <tr style=\"text-align: right;\">\n",
       "      <th></th>\n",
       "      <th>Total Count</th>\n",
       "      <th>Percentage of Players</th>\n",
       "    </tr>\n",
       "    <tr>\n",
       "      <th>Gender</th>\n",
       "      <th></th>\n",
       "      <th></th>\n",
       "    </tr>\n",
       "  </thead>\n",
       "  <tbody>\n",
       "    <tr>\n",
       "      <th>Female</th>\n",
       "      <td>113</td>\n",
       "      <td>83.59%</td>\n",
       "    </tr>\n",
       "    <tr>\n",
       "      <th>Male</th>\n",
       "      <td>652</td>\n",
       "      <td>14.49%</td>\n",
       "    </tr>\n",
       "    <tr>\n",
       "      <th>Other / Non-Disclosed</th>\n",
       "      <td>15</td>\n",
       "      <td>1.92%</td>\n",
       "    </tr>\n",
       "  </tbody>\n",
       "</table>\n",
       "</div>"
      ],
      "text/plain": [
       "                       Total Count Percentage of Players\n",
       "Gender                                                  \n",
       "Female                         113                83.59%\n",
       "Male                           652                14.49%\n",
       "Other / Non-Disclosed           15                 1.92%"
      ]
     },
     "execution_count": 189,
     "metadata": {},
     "output_type": "execute_result"
    }
   ],
   "source": [
    "# Gender Count in column of 'Gender' only\n",
    "gender_count = purchase_data_df[\"Gender\"].value_counts()\n",
    "gender_count.head()\n",
    "\n",
    "# CREATE TABLE COUNT of Genders\n",
    "grouped_gender_count = purchase_data_df.groupby(['Gender'])\n",
    "\n",
    "# The object returned is a \"GroupBy\" object and cannot be viewed normally...\n",
    "print(grouped_gender_count)\n",
    "\n",
    "# Data Frame broke into count only ('Total Count' = [Male, Female, Others])\n",
    "gender_count_test = grouped_gender_count.count().head()\n",
    "\n",
    "# delete the extra columns (NOT NEEDED)\n",
    "del gender_count_test['Price']\n",
    "del gender_count_test['SN']\n",
    "del gender_count_test['Item ID']\n",
    "del gender_count_test['Item Name']\n",
    "del gender_count_test['Age']\n",
    "\n",
    "# Keep Purchase ID, but convert 'Purchase ID' into 'Total Count'\n",
    "gender_count_test = gender_count_test.rename(columns={\"Purchase ID\": \"Total Count\"})\n",
    "\n",
    "# to find the amount of genders \n",
    "gender_total = gender_count_test.sum()\n",
    "\n",
    "# the amount of males/females/others... found in 'gender_count_test' data frame... and divide it by the amount of genders\n",
    "male_percentage = (652/gender_total)\n",
    "female_percentage = (113/gender_total)\n",
    "other_percentage = (15/gender_total)\n",
    "\n",
    "# added a column with its values into 'gender_count_test' data frame\n",
    "gender_count_test.loc[:, 'PercentageofPlayers'] = [male_percentage, female_percentage, other_percentage]\n",
    "\n",
    "# convert the 'PercentageofPlayers' values into percetange and string ( example:  .8346121 to 83.46121  )\n",
    "gender_count_test.PercentageofPlayers = (gender_count_test.PercentageofPlayers * 100).astype(str)\n",
    "\n",
    "#TO ROUND VALUES UP AND ADD '%'\n",
    "gender_count_test[\"Percentage of Players\"] = gender_count_test[\"PercentageofPlayers\"].astype(float).map(\"{:,.2f}%\".format)\n",
    "\n",
    "# DEL the extra COLUMN\n",
    "del gender_count_test['PercentageofPlayers']\n",
    "\n",
    "# print out table\n",
    "gender_count_test.head()"
   ]
  },
  {
   "cell_type": "code",
   "execution_count": 291,
   "id": "a8b1e2e6",
   "metadata": {},
   "outputs": [],
   "source": [
    "# Filter the data so that only those sightings in the US are in a DataFrame\n",
    "\n",
    "# MALE ONLY\n",
    "male_gender_only = purchase_data_df.loc[purchase_data_df[\"Gender\"] == \"Male\", :]\n",
    "male_gender_only.head()\n",
    "\n",
    "male_avg_price = male_gender_only[\"Price\"].mean()\n",
    "male_purchase_total = male_gender_only[\"Price\"].sum()\n",
    "\n",
    "\n",
    "# FEMALE ONLY\n",
    "female_gender_only = purchase_data_df.loc[purchase_data_df[\"Gender\"] == \"Female\", :]\n",
    "female_gender_only.head()\n",
    "\n",
    "female_avg_price = female_gender_only[\"Price\"].mean()\n",
    "female_purchase_total = female_gender_only[\"Price\"].sum()\n",
    "\n",
    "\n",
    "# OTHER ONLY\n",
    "other_gender_only = purchase_data_df.loc[purchase_data_df[\"Gender\"] == \"Other / Non-Disclosed\", :]\n",
    "other_gender_only.head()\n",
    "\n",
    "other_avg_price = other_gender_only[\"Price\"].mean()\n",
    "other_purchase_total = other_gender_only[\"Price\"].sum()"
   ]
  },
  {
   "cell_type": "code",
   "execution_count": 293,
   "id": "2c823079",
   "metadata": {},
   "outputs": [],
   "source": [
    "# MALE ONLY \n",
    "grouped_male_gender_df = male_gender_only.groupby(['SN'])\n",
    "\n",
    "    # Each Person who purchased more than one will add their prices... example Aeda94: 'Price' = [2.00, 3.00, 1.00]\n",
    "    #                                                                          Yasur85: 'Price' = [1.00, .10]\n",
    "    #                                                                  Outcome of code: Aeda 94: 6.00   Yasur85: 1.10\n",
    "grp_male_sum = grouped_male_gender_df[\"Price\"].sum() \n",
    "\n",
    "    # After group_by and sum of each 'SN', apply .mean() to caculate by adding each 'SN' then divide by the amount of 'SN'\n",
    "    # example: 'Lism78' = 5.10, 'Lisovynya38' = 3.90... then Lism78 + Lisovyna38 = 9.00 then 9.00/2 = the avg total purchase per person\n",
    "grp_male_avg_per_person = grp_male_sum.mean()\n",
    "\n",
    "# FEMALE ONLY\n",
    "grouped_female_gender_df = female_gender_only.groupby(['SN'])\n",
    "grp_female_sum = grouped_female_gender_df[\"Price\"].sum() \n",
    "grp_female_avg_per_person = grp_female_sum.mean()\n",
    "\n",
    "\n",
    "# OTHER ONLY\n",
    "grouped_other_gender_df = other_gender_only.groupby(['SN'])\n",
    "grp_other_sum = grouped_other_gender_df[\"Price\"].sum() \n",
    "grp_other_avg_per_person = grp_other_sum.mean()"
   ]
  },
  {
   "cell_type": "code",
   "execution_count": 294,
   "id": "a534b25a",
   "metadata": {},
   "outputs": [
    {
     "data": {
      "text/html": [
       "<div>\n",
       "<style scoped>\n",
       "    .dataframe tbody tr th:only-of-type {\n",
       "        vertical-align: middle;\n",
       "    }\n",
       "\n",
       "    .dataframe tbody tr th {\n",
       "        vertical-align: top;\n",
       "    }\n",
       "\n",
       "    .dataframe thead th {\n",
       "        text-align: right;\n",
       "    }\n",
       "</style>\n",
       "<table border=\"1\" class=\"dataframe\">\n",
       "  <thead>\n",
       "    <tr style=\"text-align: right;\">\n",
       "      <th></th>\n",
       "      <th>Purchase Count</th>\n",
       "      <th>Average Purchase of Price</th>\n",
       "      <th>Total Purchase Value</th>\n",
       "      <th>Avg Total Purchase per Person</th>\n",
       "    </tr>\n",
       "    <tr>\n",
       "      <th>Gender</th>\n",
       "      <th></th>\n",
       "      <th></th>\n",
       "      <th></th>\n",
       "      <th></th>\n",
       "    </tr>\n",
       "  </thead>\n",
       "  <tbody>\n",
       "    <tr>\n",
       "      <th>Female</th>\n",
       "      <td>113</td>\n",
       "      <td>$3.20</td>\n",
       "      <td>$361.94</td>\n",
       "      <td>$4.47</td>\n",
       "    </tr>\n",
       "    <tr>\n",
       "      <th>Male</th>\n",
       "      <td>652</td>\n",
       "      <td>$3.02</td>\n",
       "      <td>$1,967.64</td>\n",
       "      <td>$4.07</td>\n",
       "    </tr>\n",
       "    <tr>\n",
       "      <th>Other / Non-Disclosed</th>\n",
       "      <td>15</td>\n",
       "      <td>$3.35</td>\n",
       "      <td>$50.19</td>\n",
       "      <td>$4.56</td>\n",
       "    </tr>\n",
       "  </tbody>\n",
       "</table>\n",
       "</div>"
      ],
      "text/plain": [
       "                       Purchase Count Average Purchase of Price  \\\n",
       "Gender                                                            \n",
       "Female                            113                     $3.20   \n",
       "Male                              652                     $3.02   \n",
       "Other / Non-Disclosed              15                     $3.35   \n",
       "\n",
       "                      Total Purchase Value Avg Total Purchase per Person  \n",
       "Gender                                                                    \n",
       "Female                             $361.94                         $4.47  \n",
       "Male                             $1,967.64                         $4.07  \n",
       "Other / Non-Disclosed               $50.19                         $4.56  "
      ]
     },
     "execution_count": 294,
     "metadata": {},
     "output_type": "execute_result"
    }
   ],
   "source": [
    "gender_analysis_table_df = gender_analysis.drop(['SN', 'Age', 'Item ID', 'Item Name', 'Price'], axis=1)\n",
    "\n",
    "gender_analysis_table_df = gender_analysis_table_df.rename(columns={\"Purchase ID\": \"Purchase Count\"})\n",
    "\n",
    "gender_analysis_table_df.head()\n",
    "\n",
    "\n",
    "# Add COLUMNS and VALUES into Table\n",
    "gender_analysis_table_df.loc[:, 'Average Purchase of Price'] = [female_avg_price, male_avg_price, other_avg_price]\n",
    "gender_analysis_table_df.loc[:, 'Total Purchase Value'] = [female_purchase_total, male_purchase_total, other_purchase_total]\n",
    "gender_analysis_table_df.loc[:, 'Avg Total Purchase per Person'] = [grp_female_avg_per_person, grp_male_avg_per_person, grp_other_avg_per_person]\n",
    "\n",
    "\n",
    "#TO ROUND VALUES UP AND ADD '%'\n",
    "gender_analysis_table_df[\"Average Purchase of Price\"] = gender_analysis_table_df[\"Average Purchase of Price\"].astype(float).map(\"${:,.2f}\".format)\n",
    "gender_analysis_table_df[\"Total Purchase Value\"] = gender_analysis_table_df[\"Total Purchase Value\"].astype(float).map(\"${:,.2f}\".format)\n",
    "gender_analysis_table_df[\"Avg Total Purchase per Person\"] = gender_analysis_table_df[\"Avg Total Purchase per Person\"].astype(float).map(\"${:,.2f}\".format)\n",
    "\n",
    "\n",
    "gender_analysis_table_df.head()\n"
   ]
  },
  {
   "cell_type": "code",
   "execution_count": null,
   "id": "e35b275d",
   "metadata": {},
   "outputs": [],
   "source": []
  }
 ],
 "metadata": {
  "kernelspec": {
   "display_name": "Python [conda env:PythonData]",
   "language": "python",
   "name": "conda-env-PythonData-py"
  },
  "language_info": {
   "codemirror_mode": {
    "name": "ipython",
    "version": 3
   },
   "file_extension": ".py",
   "mimetype": "text/x-python",
   "name": "python",
   "nbconvert_exporter": "python",
   "pygments_lexer": "ipython3",
   "version": "3.6.10"
  }
 },
 "nbformat": 4,
 "nbformat_minor": 5
}
